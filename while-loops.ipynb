{
 "cells": [
  {
   "cell_type": "markdown",
   "id": "34034cb2-4840-4785-b6c1-71ae460ef628",
   "metadata": {},
   "source": [
    "While loops will continue to execute a block of code while some condution remains True.\n",
    "<br>\n",
    "For example, while my pool is not full, keep filling my pool with water.\n",
    "<br>\n",
    "Or while my dogs are still hungry, keep feeding my dogs\n",
    "<br>\n",
    "<br>\n",
    "Syntax of a while loop:\n",
    "<br><code>while some_boolean_condition:\n",
    "    #do something</code><br>\n",
    "\n",
    "You can combine with an else if you want:\n",
    "<br><code>while some_boolean_condition:\n",
    "    #do something\n",
    "else:\n",
    "    #do something diferent</code><br>"
   ]
  },
  {
   "cell_type": "code",
   "execution_count": 7,
   "id": "08ec2e41-7e3a-4ef9-a4c8-0fefe22b106b",
   "metadata": {},
   "outputs": [
    {
     "name": "stdout",
     "output_type": "stream",
     "text": [
      "The curren value of x is: 0\n",
      "The curren value of x is: 1\n",
      "The curren value of x is: 2\n",
      "The curren value of x is: 3\n",
      "The curren value of x is: 4\n",
      "X is not less than 5\n"
     ]
    }
   ],
   "source": [
    "x = 0\n",
    "\n",
    "while x < 5:\n",
    "    print(f'The curren value of x is: {x}')\n",
    "    x += 1\n",
    "else:\n",
    "    print('X is not less than 5')"
   ]
  },
  {
   "cell_type": "markdown",
   "id": "9275333d-6cf0-47d1-8e82-b19c99a5cb5e",
   "metadata": {},
   "source": [
    "<h1>break, continue, pass</h1>\n",
    "\n",
    "We can use break, continue and pass statements in our loops to add additional functionality for various cases. The three statements are defined by:\n",
    "\n",
    "* break: Breaks out of the current closest enclosing loop.\n",
    "* continue: Goes to the top of the closest enclosing loop.\n",
    "* pass: Does nothing at all"
   ]
  },
  {
   "cell_type": "code",
   "execution_count": 8,
   "id": "b99c3a69-8fe6-4398-9c1a-b77f6de5d199",
   "metadata": {},
   "outputs": [
    {
     "name": "stdout",
     "output_type": "stream",
     "text": [
      "End of my script\n"
     ]
    }
   ],
   "source": [
    "x = [1,2,3]\n",
    "\n",
    "for item in x:\n",
    "    # comment\n",
    "    pass\n",
    "\n",
    "print('End of my script')"
   ]
  },
  {
   "cell_type": "code",
   "execution_count": 12,
   "id": "35b2c564-d1cd-4398-9d7a-89757f5f525a",
   "metadata": {},
   "outputs": [
    {
     "name": "stdout",
     "output_type": "stream",
     "text": [
      "A\n",
      "x\n",
      "l\n"
     ]
    }
   ],
   "source": [
    "mystring = 'Axel'\n",
    "\n",
    "for letter in mystring:\n",
    "    if letter == 'e':\n",
    "        continue\n",
    "    print(letter)"
   ]
  },
  {
   "cell_type": "code",
   "execution_count": 13,
   "id": "674b5b1d-aab4-4c70-a300-f9749ef6ec60",
   "metadata": {},
   "outputs": [
    {
     "name": "stdout",
     "output_type": "stream",
     "text": [
      "A\n",
      "x\n"
     ]
    }
   ],
   "source": [
    "for letter in mystring:\n",
    "    if letter == 'e':\n",
    "        break\n",
    "    print(letter)"
   ]
  },
  {
   "cell_type": "code",
   "execution_count": 15,
   "id": "2f58a96b-bf5b-4701-824a-cac5d6894e16",
   "metadata": {},
   "outputs": [
    {
     "name": "stdout",
     "output_type": "stream",
     "text": [
      "0\n",
      "1\n"
     ]
    }
   ],
   "source": [
    "x = 0\n",
    "\n",
    "while x < 5:\n",
    "    if x == 2:\n",
    "        break\n",
    "    print(x)\n",
    "    x += 1"
   ]
  },
  {
   "cell_type": "code",
   "execution_count": null,
   "id": "940aead4-e99c-4176-8948-13fea92f7335",
   "metadata": {},
   "outputs": [],
   "source": []
  }
 ],
 "metadata": {
  "kernelspec": {
   "display_name": "Python 3 (ipykernel)",
   "language": "python",
   "name": "python3"
  },
  "language_info": {
   "codemirror_mode": {
    "name": "ipython",
    "version": 3
   },
   "file_extension": ".py",
   "mimetype": "text/x-python",
   "name": "python",
   "nbconvert_exporter": "python",
   "pygments_lexer": "ipython3",
   "version": "3.11.7"
  }
 },
 "nbformat": 4,
 "nbformat_minor": 5
}
