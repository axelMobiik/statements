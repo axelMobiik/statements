{
 "cells": [
  {
   "cell_type": "markdown",
   "id": "57cefdd1-ef2f-49d9-a722-20d374073301",
   "metadata": {},
   "source": [
    "Control flow\n",
    "\n",
    "We often only want certain code to execute when a particular condition has been met.\n",
    "\n",
    "For example, if my dogs is hungry (some condition), then i will feed the dog(some action)\n",
    "\n",
    "To control this flow of logic we use some keywords:\n",
    "* if\n",
    "* elif\n",
    "* else\n",
    "\n",
    "Control flow syntax makes use of colons and identation (whitespace).\n",
    "\n",
    "This identation system is crucial to Python and is what sets it apart from other programming lenguages\n",
    "\n",
    "Syntax of an if statement:\n",
    "<br><code>if some_condition:\n",
    "    #execute some code</code><br>\n",
    "\n",
    "Syntax of an if/else statement:\n",
    "<br><code>if some_condition\n",
    "    #execute some code\n",
    "else:\n",
    "    #do something else<code><br>\n",
    "\n",
    "Syntax of an if/else statement (elif):\n",
    "<br><code>if some_condition\n",
    "    #execute some code\n",
    "elif some_other_condition\n",
    "    #do something different\n",
    "else:\n",
    "    #do something else<code><br>"
   ]
  },
  {
   "cell_type": "code",
   "execution_count": 7,
   "id": "8409fd31-8233-4e28-b313-7488e1dc60cf",
   "metadata": {},
   "outputs": [
    {
     "name": "stdout",
     "output_type": "stream",
     "text": [
      "I'm not hungry\n"
     ]
    }
   ],
   "source": [
    "hungry = False\n",
    "if hungry:\n",
    "    print(\"Feed me\")\n",
    "else:\n",
    "    print(\"I'm not hungry\")"
   ]
  },
  {
   "cell_type": "code",
   "execution_count": 13,
   "id": "6ea07611-3776-4cdc-bd02-0e4052a9f729",
   "metadata": {},
   "outputs": [
    {
     "name": "stdout",
     "output_type": "stream",
     "text": [
      "Welcome to the store\n"
     ]
    }
   ],
   "source": [
    "loc = 'Store'\n",
    "\n",
    "if loc == 'Auto shop':\n",
    "    print('Cars are cool')\n",
    "elif loc == 'Bank':\n",
    "    print('Money is cool')\n",
    "elif loc == 'Store':\n",
    "    print('Welcome to the store')\n",
    "else:\n",
    "    print('I do not know much')"
   ]
  },
  {
   "cell_type": "code",
   "execution_count": 14,
   "id": "2611fee1-db7b-4342-973e-943d2213c5ec",
   "metadata": {},
   "outputs": [
    {
     "name": "stdout",
     "output_type": "stream",
     "text": [
      "Hello, Axel\n"
     ]
    }
   ],
   "source": [
    "name = 'Axel'\n",
    "\n",
    "if name == 'Ara':\n",
    "    print('Hi, Ara')\n",
    "elif name == 'Axel':\n",
    "    print('Hello, Axel')\n",
    "elif name == 'German':\n",
    "    print(\"'sup, German\")\n",
    "else:\n",
    "    print('Hi')"
   ]
  }
 ],
 "metadata": {
  "kernelspec": {
   "display_name": "Python 3 (ipykernel)",
   "language": "python",
   "name": "python3"
  },
  "language_info": {
   "codemirror_mode": {
    "name": "ipython",
    "version": 3
   },
   "file_extension": ".py",
   "mimetype": "text/x-python",
   "name": "python",
   "nbconvert_exporter": "python",
   "pygments_lexer": "ipython3",
   "version": "3.11.7"
  }
 },
 "nbformat": 4,
 "nbformat_minor": 5
}
