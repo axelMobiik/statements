{
 "cells": [
  {
   "cell_type": "markdown",
   "id": "506dd430-e6e8-4c20-af38-b4355aa384a8",
   "metadata": {},
   "source": [
    "Many objects in Python are \"iterable\", meaning we can iterate over every element in the object.\n",
    "<br>\n",
    "Such as every element in a list or every character in a string.\n",
    "<br>\n",
    "We can use for loops to execute a block of code for every iteration.\n",
    "<br>\n",
    "The term iterable means you can \"iterate\" over the object.\n",
    "<br>\n",
    "For example you can iterate over every character in a string, iterate over every item in a list, iterate over every key in a dictionary\n",
    "<br>\n",
    "\n",
    "<code>my_iterable = [1,2,3]\n",
    "for item_name in my_iterable:\n",
    "    print(item_name)</code>\n",
    "\n",
    "<br>\n",
    "\n",
    "Output:\n",
    ">> 1 \n",
    "<br>\n",
    ">> 2\n",
    "<br>\n",
    ">> 3"
   ]
  },
  {
   "cell_type": "code",
   "execution_count": 2,
   "id": "8c3eee63-1e6f-4095-a947-48d6f4a375e1",
   "metadata": {},
   "outputs": [],
   "source": [
    "mylist = [1, 2, 3, 4, 5, 6, 7, 8, 9, 10]"
   ]
  },
  {
   "cell_type": "code",
   "execution_count": 3,
   "id": "089c5f5e-e4f0-4617-8f49-064d8ecc2854",
   "metadata": {},
   "outputs": [
    {
     "name": "stdout",
     "output_type": "stream",
     "text": [
      "1\n",
      "2\n",
      "3\n",
      "4\n",
      "5\n",
      "6\n",
      "7\n",
      "8\n",
      "9\n",
      "10\n"
     ]
    }
   ],
   "source": [
    "for num in mylist:\n",
    "    print(num)"
   ]
  },
  {
   "cell_type": "code",
   "execution_count": 6,
   "id": "f7fddfb9-d8c5-401f-9867-b1aae37936f2",
   "metadata": {},
   "outputs": [
    {
     "name": "stdout",
     "output_type": "stream",
     "text": [
      "Odd number: 1\n",
      "2\n",
      "Odd number: 3\n",
      "4\n",
      "Odd number: 5\n",
      "6\n",
      "Odd number: 7\n",
      "8\n",
      "Odd number: 9\n",
      "10\n"
     ]
    }
   ],
   "source": [
    "for num in mylist:\n",
    "    #Check for even\n",
    "    if num % 2 == 0:\n",
    "        print(num)\n",
    "    else:\n",
    "        print(f'Odd number: {num}')"
   ]
  },
  {
   "cell_type": "code",
   "execution_count": 11,
   "id": "a61e380c-bc88-429a-aa12-1fc6fbe09431",
   "metadata": {},
   "outputs": [
    {
     "name": "stdout",
     "output_type": "stream",
     "text": [
      "1\n",
      "3\n",
      "6\n",
      "10\n",
      "15\n",
      "21\n",
      "28\n",
      "36\n",
      "45\n",
      "55\n",
      "Total: 55\n"
     ]
    }
   ],
   "source": [
    "list_sum = 0\n",
    "\n",
    "for num in mylist:\n",
    "    list_sum = list_sum + num\n",
    "    \n",
    "    print(list_sum)\n",
    "\n",
    "print(f'Total: {list_sum}')"
   ]
  },
  {
   "cell_type": "code",
   "execution_count": 13,
   "id": "f87e8f8d-0158-4899-bd4a-70996909a6a3",
   "metadata": {},
   "outputs": [
    {
     "name": "stdout",
     "output_type": "stream",
     "text": [
      "H\n",
      "e\n",
      "l\n",
      "l\n",
      "o\n",
      ",\n",
      " \n",
      "w\n",
      "o\n",
      "r\n",
      "l\n",
      "d\n",
      "!\n"
     ]
    }
   ],
   "source": [
    "mystring = 'Hello, world!'\n",
    "\n",
    "for letter in mystring:\n",
    "    print(letter)"
   ]
  },
  {
   "cell_type": "code",
   "execution_count": 16,
   "id": "16872a62-8982-448e-803b-cae75f1b03ad",
   "metadata": {},
   "outputs": [
    {
     "name": "stdout",
     "output_type": "stream",
     "text": [
      "1\n",
      "2\n",
      "3\n"
     ]
    }
   ],
   "source": [
    "#Loop with a tuple\n",
    "tup = (1,2,3)\n",
    "\n",
    "for item in tup:\n",
    "    print(item)"
   ]
  },
  {
   "cell_type": "code",
   "execution_count": 17,
   "id": "9d2fd56e-a09b-461f-acb3-fdd05f466e5f",
   "metadata": {},
   "outputs": [
    {
     "data": {
      "text/plain": [
       "4"
      ]
     },
     "execution_count": 17,
     "metadata": {},
     "output_type": "execute_result"
    }
   ],
   "source": [
    "mylist = [(1,2), (3,4), (5,6), (7,8)]\n",
    "\n",
    "len(mylist)"
   ]
  },
  {
   "cell_type": "code",
   "execution_count": 18,
   "id": "9e5389d1-e57e-481f-a683-3a8d2e5b3420",
   "metadata": {},
   "outputs": [
    {
     "name": "stdout",
     "output_type": "stream",
     "text": [
      "(1, 2)\n",
      "(3, 4)\n",
      "(5, 6)\n",
      "(7, 8)\n"
     ]
    }
   ],
   "source": [
    "for item in mylist:\n",
    "    print(item)"
   ]
  },
  {
   "cell_type": "code",
   "execution_count": 20,
   "id": "c0244a3c-21f5-48a1-a917-afc7769ea8a7",
   "metadata": {},
   "outputs": [
    {
     "name": "stdout",
     "output_type": "stream",
     "text": [
      "a: 1\n",
      "b: 2\n",
      "a: 3\n",
      "b: 4\n",
      "a: 5\n",
      "b: 6\n",
      "a: 7\n",
      "b: 8\n"
     ]
    }
   ],
   "source": [
    "for (a, b) in mylist:\n",
    "    print(f'a: {a}')\n",
    "    print(f'b: {b}')"
   ]
  },
  {
   "cell_type": "code",
   "execution_count": 21,
   "id": "bbcaa565-a3af-438f-acb3-72522c04ef8a",
   "metadata": {},
   "outputs": [],
   "source": [
    "mylist = [(1,2,3), (5,6,7), (8,9,10)]"
   ]
  },
  {
   "cell_type": "code",
   "execution_count": 24,
   "id": "427ac6fc-b2cc-4837-ad93-a9c1f5d79f29",
   "metadata": {},
   "outputs": [
    {
     "name": "stdout",
     "output_type": "stream",
     "text": [
      "1 - 2 - 3\n",
      "5 - 6 - 7\n",
      "8 - 9 - 10\n"
     ]
    }
   ],
   "source": [
    "for a,b,c in mylist:\n",
    "    print(f'{a} - {b} - {c}')"
   ]
  },
  {
   "cell_type": "code",
   "execution_count": 26,
   "id": "0ef60e9c-b71c-4225-991f-6f5082633b73",
   "metadata": {},
   "outputs": [
    {
     "name": "stdout",
     "output_type": "stream",
     "text": [
      "k1\n",
      "k2\n",
      "k3\n"
     ]
    }
   ],
   "source": [
    "d = {'k1': 1, 'k2': 2, 'k3': 3}\n",
    "\n",
    "for item in d:\n",
    "    print(item)"
   ]
  },
  {
   "cell_type": "code",
   "execution_count": 28,
   "id": "75086b02-e6a6-40e2-90ac-e736a27e7474",
   "metadata": {},
   "outputs": [
    {
     "name": "stdout",
     "output_type": "stream",
     "text": [
      "('k1', 1)\n",
      "('k2', 2)\n",
      "('k3', 3)\n"
     ]
    }
   ],
   "source": [
    "for item in d.items():\n",
    "    print(item)"
   ]
  },
  {
   "cell_type": "code",
   "execution_count": 31,
   "id": "e4bf7c14-9db8-4e84-9f59-8605d81efce6",
   "metadata": {},
   "outputs": [
    {
     "name": "stdout",
     "output_type": "stream",
     "text": [
      "k1 - 1\n",
      "k2 - 2\n",
      "k3 - 3\n"
     ]
    }
   ],
   "source": [
    "for key, value in d.items():\n",
    "    print(f'{key} - {value}')"
   ]
  },
  {
   "cell_type": "code",
   "execution_count": 33,
   "id": "f536b42b-94e4-4fac-abd9-970b82fa31da",
   "metadata": {},
   "outputs": [
    {
     "name": "stdout",
     "output_type": "stream",
     "text": [
      "keyVal - 1\n",
      "keyVal - 2\n",
      "keyVal - 3\n"
     ]
    }
   ],
   "source": [
    "for value in d.values():\n",
    "    print(f'keyVal - {value}')"
   ]
  }
 ],
 "metadata": {
  "kernelspec": {
   "display_name": "Python 3 (ipykernel)",
   "language": "python",
   "name": "python3"
  },
  "language_info": {
   "codemirror_mode": {
    "name": "ipython",
    "version": 3
   },
   "file_extension": ".py",
   "mimetype": "text/x-python",
   "name": "python",
   "nbconvert_exporter": "python",
   "pygments_lexer": "ipython3",
   "version": "3.11.7"
  }
 },
 "nbformat": 4,
 "nbformat_minor": 5
}
